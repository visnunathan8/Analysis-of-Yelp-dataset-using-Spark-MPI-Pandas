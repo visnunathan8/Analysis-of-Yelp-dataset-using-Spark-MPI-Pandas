{
  "cells": [
    {
      "cell_type": "code",
      "execution_count": null,
      "metadata": {
        "colab": {
          "base_uri": "https://localhost:8080/"
        },
        "id": "ou4EvDsqBD0s",
        "outputId": "c9d14b93-646d-4373-d7d8-6e598909aacd"
      },
      "outputs": [
        {
          "output_type": "stream",
          "name": "stdout",
          "text": [
            "Mounted at /content/drive\n"
          ]
        }
      ],
      "source": [
        "from google.colab import drive\n",
        "drive.mount('/content/drive',force_remount=True)"
      ]
    },
    {
      "cell_type": "code",
      "execution_count": null,
      "metadata": {
        "colab": {
          "base_uri": "https://localhost:8080/"
        },
        "id": "TNtyu7ICykUj",
        "outputId": "5a945b07-77f8-4561-d4f8-3f90c8bd645f"
      },
      "outputs": [
        {
          "output_type": "stream",
          "name": "stdout",
          "text": [
            "Looking in indexes: https://pypi.org/simple, https://us-python.pkg.dev/colab-wheels/public/simple/\n",
            "Collecting pyspark\n",
            "  Downloading pyspark-3.3.1.tar.gz (281.4 MB)\n",
            "\u001b[K     |████████████████████████████████| 281.4 MB 41 kB/s \n",
            "\u001b[?25hCollecting py4j==0.10.9.5\n",
            "  Downloading py4j-0.10.9.5-py2.py3-none-any.whl (199 kB)\n",
            "\u001b[K     |████████████████████████████████| 199 kB 58.2 MB/s \n",
            "\u001b[?25hBuilding wheels for collected packages: pyspark\n",
            "  Building wheel for pyspark (setup.py) ... \u001b[?25l\u001b[?25hdone\n",
            "  Created wheel for pyspark: filename=pyspark-3.3.1-py2.py3-none-any.whl size=281845512 sha256=9b10b9aa5a394838401ee48962d64e1fe1f4a833cc45a35341fdfb4b8e894841\n",
            "  Stored in directory: /root/.cache/pip/wheels/43/dc/11/ec201cd671da62fa9c5cc77078235e40722170ceba231d7598\n",
            "Successfully built pyspark\n",
            "Installing collected packages: py4j, pyspark\n",
            "Successfully installed py4j-0.10.9.5 pyspark-3.3.1\n"
          ]
        }
      ],
      "source": [
        "!pip install pyspark"
      ]
    },
    {
      "cell_type": "code",
      "execution_count": null,
      "metadata": {
        "id": "UFTs_NeRAxnT"
      },
      "outputs": [],
      "source": [
        "import pyspark\n",
        "from pyspark.sql import SparkSession\n",
        "from pyspark.sql.functions import * \n",
        "spark = SparkSession.builder.appName('yelp_use_case').getOrCreate()\n",
        " "
      ]
    },
    {
      "cell_type": "code",
      "source": [
        "business_df = spark.read.csv('/content/drive/MyDrive/pyspark_usecase/business_sample.csv', sep=',',inferSchema=True, header=True)\n"
      ],
      "metadata": {
        "id": "sGLUbEMRj4QE"
      },
      "execution_count": null,
      "outputs": []
    },
    {
      "cell_type": "code",
      "source": [
        "business_df.show(10)"
      ],
      "metadata": {
        "colab": {
          "base_uri": "https://localhost:8080/"
        },
        "id": "YFPw1hqDwFKP",
        "outputId": "dc83f3dd-f471-429e-95cc-44445453f6f0"
      },
      "execution_count": null,
      "outputs": [
        {
          "output_type": "stream",
          "name": "stdout",
          "text": [
            "+--------------------+--------------------+--------------------+--------------------+------------------+--------------------+--------------------+--------------------+--------------------+--------------------+--------------------+--------------------+------------------+--------------------+\n",
            "|             address|          attributes|         business_id|          categories|              city|               hours|             is_open|            latitude|           longitude|                name|         postal_code|        review_count|             stars|               state|\n",
            "+--------------------+--------------------+--------------------+--------------------+------------------+--------------------+--------------------+--------------------+--------------------+--------------------+--------------------+--------------------+------------------+--------------------+\n",
            "|1616 Chapala St, ...|Row(AcceptsInsura...|Pns2l4eNsfO8kk83d...|Doctors, Traditio...|     Santa Barbara|                null|                   0|          34.4266787|        -119.7111968|Abby Rappoport, L...|               93101|                   7|               5.0|                  CA|\n",
            "|87 Grasso Plaza S...|Row(AcceptsInsura...|mpf3x-BjTdTEA3yCZ...|Shipping Centers,...|            Affton|Row(Friday='8:0-1...|                   1|           38.551126|          -90.335695|       The UPS Store|               63123|                  15|               3.0|                  MO|\n",
            "|5255 E Broadway Blvd|\"Row(AcceptsInsur...|     'street': False|  'validated': False|       'lot': True|   'valet': False}\"\"| ByAppointmentOnl...|      Caters='False'|   CoatCheck='False'|        Corkage=None| DietaryRestricti...| DogsAllowed='False'|    DriveThru=None| GoodForDancing=None|\n",
            "|         935 Race St|\"Row(AcceptsInsur...|       Ambience=None|           BYOB=None|  BYOBCorkage=None|     BestNights=None|  BikeParking='True'| BusinessAcceptsB...| BusinessAcceptsC...| BusinessParking=...|      'street': True|  'validated': False|      'lot': False|   'valet': False}\"\"|\n",
            "|       101 Walnut St|\"Row(AcceptsInsur...|      'street': None|   'validated': None|       'lot': True|   'valet': False}\"\"| ByAppointmentOnl...|      Caters='False'|      CoatCheck=None|        Corkage=None| DietaryRestricti...|    DogsAllowed=None|    DriveThru=None| GoodForDancing=None|\n",
            "|       615 S Main St|\"Row(AcceptsInsur...|     Ambience='None'|           BYOB=None|  BYOBCorkage=None|     BestNights=None| BikeParking='False'| BusinessAcceptsB...| BusinessAcceptsC...| BusinessParking=...| ByAppointmentOnl...|      Caters='False'| CoatCheck='False'|        Corkage=None|\n",
            "|8522 Eager Road, ...|\"Row(AcceptsInsur...|     'street': False|  'validated': False|       'lot': True|   'valet': False}\"\"| ByAppointmentOnl...|         Caters=None|      CoatCheck=None|        Corkage=None| DietaryRestricti...|    DogsAllowed=None|    DriveThru=None| GoodForDancing=None|\n",
            "|  400 Pasadena Ave S|                null|qkRM_2X51Yqxk3btl...|Synagogues, Relig...|    St. Petersburg|Row(Friday='9:0-1...|                   1|            27.76659|          -82.732983|      Temple Beth-El|               33707|                   5|               3.5|                  FL|\n",
            "|   8025 Mackenzie Rd|\"Row(AcceptsInsur...| Ambience=\"\"{'rom...|   'intimate': False| 'touristy': False|    'hipster': False|      'divey': False|     'classy': False|     'trendy': False|    'upscale': False|  'casual': False}\"\"|           BYOB=None|  BYOBCorkage=None|     BestNights=None|\n",
            "| 2312 Dickerson Pike|\"Row(AcceptsInsur...|       Ambience=None|           BYOB=None|  BYOBCorkage=None|     BestNights=None|    BikeParking=None| BusinessAcceptsB...| BusinessAcceptsC...| BusinessParking=...|     'street': False|  'validated': False|      'lot': False|   'valet': False}\"\"|\n",
            "+--------------------+--------------------+--------------------+--------------------+------------------+--------------------+--------------------+--------------------+--------------------+--------------------+--------------------+--------------------+------------------+--------------------+\n",
            "only showing top 10 rows\n",
            "\n"
          ]
        }
      ]
    },
    {
      "cell_type": "code",
      "source": [
        "checkin_df = spark.read.csv('/content/drive/MyDrive/pyspark_usecase/checkin_sample.csv', sep=',',inferSchema=True, header=True)\n",
        "checkin_df.show(10)"
      ],
      "metadata": {
        "colab": {
          "base_uri": "https://localhost:8080/"
        },
        "id": "iBEXrBcxwI17",
        "outputId": "77ca7319-b26d-4734-c50f-25188484d575"
      },
      "execution_count": null,
      "outputs": [
        {
          "output_type": "stream",
          "name": "stdout",
          "text": [
            "+--------------------+--------------------+\n",
            "|         business_id|                date|\n",
            "+--------------------+--------------------+\n",
            "|---kPU91CF4Lq2-Wl...|2020-03-13 21:10:...|\n",
            "|--0iUa4sNDFiZFrAd...|2010-09-13 21:43:...|\n",
            "|--30_8IhuyMHbSOcN...|2013-06-14 23:29:...|\n",
            "|--7PUidqRWpRSpXeb...|2011-02-15 17:12:...|\n",
            "|--7jw19RH9JKXgFoh...|2014-04-21 20:42:...|\n",
            "|--8IbOsAAxjKRoYsB...|2015-06-06 01:03:...|\n",
            "|--9osgUCSDUWUkoTL...|2015-06-13 02:00:...|\n",
            "|--ARBQr1WMsTWiwOK...|2014-12-12 00:44:...|\n",
            "|--FWWsIwxRwuw9vIM...|2010-09-11 16:28:...|\n",
            "|--FcbSxK1AoEtEAxO...|2017-08-18 19:43:...|\n",
            "+--------------------+--------------------+\n",
            "only showing top 10 rows\n",
            "\n"
          ]
        }
      ]
    },
    {
      "cell_type": "code",
      "source": [
        "reviews_df = spark.read.csv('/content/drive/MyDrive/pyspark_usecase/reviews_sample.csv', sep=',',inferSchema=True, header=True)\n",
        "reviews_df.show(10)"
      ],
      "metadata": {
        "colab": {
          "base_uri": "https://localhost:8080/"
        },
        "id": "sIsKnltCwh5W",
        "outputId": "7f03817d-595b-4e32-d943-16c7fa9bfa6f"
      },
      "execution_count": null,
      "outputs": [
        {
          "output_type": "stream",
          "name": "stdout",
          "text": [
            "+--------------------+--------------------+--------------------+--------------------+--------------------+--------------------+--------------------+--------------------+--------------------+\n",
            "|         business_id|                cool|                date|               funny|           review_id|               stars|                text|              useful|             user_id|\n",
            "+--------------------+--------------------+--------------------+--------------------+--------------------+--------------------+--------------------+--------------------+--------------------+\n",
            "|XQfwVwDr-v0ZS3_Cb...|                   0| 2018-07-07 22:09:11|                   0|KU_O5udG6zpxOg-Vc...|                 3.0|If you decide to ...|                null|                null|\n",
            "|    The food is good| but it takes a v...| but usually plea...| in order to be d...|                   0|mh_-eMZ6K5RLWhZyI...|                null|                null|                null|\n",
            "|7ATYjTIgM3jUlt4UM...|                   1| 2012-01-03 15:28:18|                   0|BiTunyQ73aT9WBnpR...|                 5.0|I've taken a lot ...|                null|                null|\n",
            "|For anyone who st...| the online sched...|                null|                null|                null|                null|                null|                null|                null|\n",
            "|There is no way I...| the owner of Bod...| a shout out. Rus...| as is his desire...| and is open to i...| even when he's k...|                   1|OyoGAe7OKpv6SyGZT...|                null|\n",
            "|YjUWPpI6HXG530lwP...|                   0| 2014-02-05 20:30:30|                   0|saUsX_uimxRlCVr67...|                 3.0|Family diner. Had...|                   0|8g_iMtfSiwikVnbP2...|\n",
            "|kxX2SOes4o-D3ZQBk...|                   1| 2015-01-04 00:01:03|                   0|AqPFMleE6RsU23_au...|                 5.0|Wow!  Yummy, diff...|                   1|_7bHUi9Uuf5__HHc_...|\n",
            "|e4Vwtrqf-wpJfwesg...|                   1| 2017-01-14 20:54:15|                   0|Sx8TMOWLNuJBWer-0...|                 4.0|Cute interior and...|                   1|bcjbaE6dDog4jkNY9...|\n",
            "|04UD14gamNjLY0IDY...|                   1| 2015-09-23 23:10:31|                   2|JrIxlS1TzJ-iCu79u...|                 1.0|I am a long term ...|                   1|eUta8W_HdHMXPzLBB...|\n",
            "|gmjsEdUsKpj9Xxu6p...|                   0| 2015-01-03 23:21:18|                   2|6AxgBCNX_PNTOxmbR...|                 5.0|Loved this tour! ...|                   0|r3zeYsv1XFBRA4dJp...|\n",
            "+--------------------+--------------------+--------------------+--------------------+--------------------+--------------------+--------------------+--------------------+--------------------+\n",
            "only showing top 10 rows\n",
            "\n"
          ]
        }
      ]
    },
    {
      "cell_type": "code",
      "source": [
        "tip_df = spark.read.csv('/content/drive/MyDrive/pyspark_usecase/tip_sample.csv', sep=',',inferSchema=True, header=True)\n",
        "tip_df.show(10)"
      ],
      "metadata": {
        "colab": {
          "base_uri": "https://localhost:8080/"
        },
        "id": "Oc6ev7uNwpz7",
        "outputId": "5cbfcd6a-4fe8-4e57-8d41-c31a59526bf0"
      },
      "execution_count": null,
      "outputs": [
        {
          "output_type": "stream",
          "name": "stdout",
          "text": [
            "+--------------------+----------------+-------------------+--------------------+--------------------+\n",
            "|         business_id|compliment_count|               date|                text|             user_id|\n",
            "+--------------------+----------------+-------------------+--------------------+--------------------+\n",
            "|3uLgwr0qeCNMjKenH...|               0|2012-05-18 02:17:21|Avengers time wit...|AGNUgVwnZUey3gcPC...|\n",
            "|QoezRbYQncpRqyrLH...|               0|2013-02-05 18:35:10|They have lots of...|NBN4MgHP9D3cw--Sn...|\n",
            "|MYoRNLb5chwjQe3c_...|               0|2013-08-18 00:56:08|It's open even wh...|-copOvldyKh1qr-vz...|\n",
            "|hV-bABTK-glh5wj31...|               0|2017-06-27 23:05:38|Very decent fried...|FjMQVZjSqY8syIO-5...|\n",
            "|_uN0OudeJ3Zl_tf6n...|               0|2012-10-06 19:43:09|Appetizers.. plat...|ld0AperBXk1h6Ubqm...|\n",
            "|7Rm9Ba50bw23KTA8R...|               0|2012-03-13 04:00:52|Chili Cup + Singl...|trf3Qcz8qvCDKXiTg...|\n",
            "|kH-0iXqkL7b8UXNpg...|               0|2013-12-03 23:42:15|Saturday, Dec 7th...|SMGAlRjyfuYu-c-22...|\n",
            "|jtri188kuhe_AuEOJ...|               0|2016-11-22 22:14:58|This is probably ...|YVBB9g23nuVJ0u44z...|\n",
            "|xODBZmX4EmlVvbqtK...|               0|2012-07-27 01:48:24|               Tacos|VL12EhEdT4OWqGq0n...|\n",
            "|pICJRcyqW1cF96Q3X...|               0|2012-06-09 22:57:04|Starbucks substit...|4ay-fdVks5WMerYL_...|\n",
            "+--------------------+----------------+-------------------+--------------------+--------------------+\n",
            "only showing top 10 rows\n",
            "\n"
          ]
        }
      ]
    },
    {
      "cell_type": "code",
      "source": [
        "\n",
        "users_df = spark.read.csv('/content/drive/MyDrive/pyspark_usecase/users_sample.csv', sep=',',inferSchema=True, header=True)\n",
        "users_df.show(10)"
      ],
      "metadata": {
        "colab": {
          "base_uri": "https://localhost:8080/"
        },
        "id": "_5NzZplSwyrA",
        "outputId": "80e47ae2-6180-4fca-a96f-3d755d3da054"
      },
      "execution_count": null,
      "outputs": [
        {
          "output_type": "stream",
          "name": "stdout",
          "text": [
            "+-------------+---------------+---------------+----------------+--------------+---------------+---------------+---------------+-----------------+----------------+------------------+-----------------+-----+--------------------+----+--------------------+-----+--------+------------+------+--------------------+-------------------+\n",
            "|average_stars|compliment_cool|compliment_cute|compliment_funny|compliment_hot|compliment_list|compliment_more|compliment_note|compliment_photos|compliment_plain|compliment_profile|compliment_writer| cool|               elite|fans|             friends|funny|    name|review_count|useful|             user_id|      yelping_since|\n",
            "+-------------+---------------+---------------+----------------+--------------+---------------+---------------+---------------+-----------------+----------------+------------------+-----------------+-----+--------------------+----+--------------------+-----+--------+------------+------+--------------------+-------------------+\n",
            "|         3.91|            467|             56|             467|           250|             18|             65|            232|              180|             844|                55|              239| 5994|                2007| 267|NSCy54eWehBJyZdG2...| 1259|  Walker|         585|  7217|qVc8ODYU5SZjKXVBg...|2007-01-25 16:47:26|\n",
            "|         3.74|           3131|            157|            3131|          1145|            251|            264|           1847|             1946|            7054|               184|             1521|27281|2009,2010,2011,20...|3138|ueRPE0CX75ePGMqOF...|13066|  Daniel|        4333| 43091|j14WgRoU_-2ZE1aw1...|2009-01-25 04:35:42|\n",
            "|         3.32|            119|             17|             119|            89|              3|             13|             66|               18|              96|                10|               35| 1003|2009,2010,2011,20...|  52|LuO3Bn4f3rlhyHIaN...| 1010|   Steph|         665|  2086|2WnXYQFK0hXEoTxPt...|2008-07-25 10:41:00|\n",
            "|         4.27|             26|              6|              26|            24|              2|              4|             12|                9|              16|                 1|               10|  299|      2009,2010,2011|  28|enx1vVPnfdNUdPho6...|  330|    Gwen|         224|   512|SZDeASXq7o05mMNLs...|2005-11-29 04:38:33|\n",
            "|         3.54|              0|              0|               0|             1|              0|              1|              1|                0|               1|                 0|                0|    7|                null|   1|PBK4q9KEEBHhFvSXC...|   15|   Karen|          79|    29|hA5lMy-EnncsH4JoR...|2007-01-05 19:40:59|\n",
            "|         3.85|           2543|            361|            2543|          1713|            147|            163|           1212|              323|            5696|               191|              815|11211|2006,2007,2008,20...|1357|xBDpTUbai0DXrvxCe...| 9940|    Jane|        1221| 14953|q_QQ5kBBwlCcbL1s4...|2005-03-14 20:26:35|\n",
            "|         2.75|              0|              0|               0|             0|              0|              0|              0|                0|               1|                 0|                0|    0|                null|   1|HDAQ74AEznP-YsMk1...|    1|     Rob|          12|     6|cxuxXkcihfCbqt5By...|2009-02-24 03:09:06|\n",
            "|         3.73|             12|              0|              12|             4|              0|              7|              8|                0|               6|                 2|                5|  143|                null|  23|y2GyxJF5VQWohxgw_...|  102|    Mike|         358|   399|E9kcWJdJUHuTKfQur...|2008-12-11 22:11:56|\n",
            "|         4.04|              5|              3|               5|             2|              0|              0|              3|                1|               4|                 0|                3|   46|                null|   7|tOQDlz36rI__SOsbL...|   40|Rachelle|          40|   109|lO1iq-f75hnPNZkTy...|2008-12-29 22:40:56|\n",
            "|          3.4|              3|              0|               3|             0|              0|              0|              1|                0|               6|                 0|                0|   23|                null|   4|gy5fWeSv3Gamuq9Ox...|   20|    John|         109|   154|AUi8MPWJ0mLkMfwbu...|2010-01-07 18:32:04|\n",
            "+-------------+---------------+---------------+----------------+--------------+---------------+---------------+---------------+-----------------+----------------+------------------+-----------------+-----+--------------------+----+--------------------+-----+--------+------------+------+--------------------+-------------------+\n",
            "only showing top 10 rows\n",
            "\n"
          ]
        }
      ]
    },
    {
      "cell_type": "markdown",
      "source": [
        "joining business and reviews data. Since reviews df is smaller than business df and to reduce the data shuffling we have used broadcast join\n"
      ],
      "metadata": {
        "id": "rJbWM4Fw0gfO"
      }
    },
    {
      "cell_type": "code",
      "source": [
        "reviews_df = reviews_df.withColumnRenamed(\"stars\",'reviews_stars')\n",
        "business_review_df = business_df.join(broadcast(reviews_df),['business_id'])"
      ],
      "metadata": {
        "id": "iPJb5-Msw8j4"
      },
      "execution_count": null,
      "outputs": []
    },
    {
      "cell_type": "code",
      "source": [
        "business_review_df.show(1)"
      ],
      "metadata": {
        "colab": {
          "base_uri": "https://localhost:8080/"
        },
        "id": "N_eNblyHxZiH",
        "outputId": "74803e27-650d-4afc-a89d-0e5b3bd7cfc2"
      },
      "execution_count": null,
      "outputs": [
        {
          "output_type": "stream",
          "name": "stdout",
          "text": [
            "+--------------------+---------------+--------------------+--------------------+------------+--------------------+-------+-------------+--------------+--------------------+-----------+------------+-----+-----+----+-------------------+-----+--------------------+-------------+--------------------+------+--------------------+\n",
            "|         business_id|        address|          attributes|          categories|        city|               hours|is_open|     latitude|     longitude|                name|postal_code|review_count|stars|state|cool|               date|funny|           review_id|reviews_stars|                text|useful|             user_id|\n",
            "+--------------------+---------------+--------------------+--------------------+------------+--------------------+-------+-------------+--------------+--------------------+-----------+------------+-----+-----+----+-------------------+-----+--------------------+-------------+--------------------+------+--------------------+\n",
            "|6I_DA3uqOox50rBvj...|4301 Island Ave|\"Row(AcceptsInsur...|Event Planning & ...|Philadelphia|Row(Friday='0:0-0...|      1|39.8911246892|-75.2342512699|Aloft Philadelphi...|      19153|         175|  3.0|   PA|   0|2017-08-16 21:38:05|    0|YpwBi6ZTos9cdizfL...|          1.0|I was very disapp...|     2|ZPDcTTy10DeS3PnTd...|\n",
            "+--------------------+---------------+--------------------+--------------------+------------+--------------------+-------+-------------+--------------+--------------------+-----------+------------+-----+-----+----+-------------------+-----+--------------------+-------------+--------------------+------+--------------------+\n",
            "only showing top 1 row\n",
            "\n"
          ]
        }
      ]
    },
    {
      "cell_type": "code",
      "source": [
        "df2 = business_review_df.select(['business_id','city','categories','name','review_count','stars'])\n",
        "df2.show(5)"
      ],
      "metadata": {
        "colab": {
          "base_uri": "https://localhost:8080/"
        },
        "id": "NYUJpdFUzy-y",
        "outputId": "b85ad2a8-81c6-4723-d86a-5e370b085286"
      },
      "execution_count": null,
      "outputs": [
        {
          "output_type": "stream",
          "name": "stdout",
          "text": [
            "+--------------------+------------+--------------------+--------------------+------------+-----+\n",
            "|         business_id|        city|          categories|                name|review_count|stars|\n",
            "+--------------------+------------+--------------------+--------------------+------------+-----+\n",
            "|6I_DA3uqOox50rBvj...|Philadelphia|Event Planning & ...|Aloft Philadelphi...|         175|  3.0|\n",
            "|mHDBZmEH0Er3184YS...|     Brandon|Tires, Automotive...|Splash Car Wash &...|          50|  2.5|\n",
            "|yooufdsf3eAVq_9RQ...|Philadelphia|Local Services, C...|      Mazzoni Center|          46|  3.0|\n",
            "|-Ijm5ICZUZffTo3iu...|       Largo|Doctors, Health &...|MedExpress Urgent...|          39|  2.5|\n",
            "|uW2oyOCEN3RgS7j2M...| New Orleans|Barbers, Beauty &...|The Bearded Lady ...|          46|  4.5|\n",
            "+--------------------+------------+--------------------+--------------------+------------+-----+\n",
            "only showing top 5 rows\n",
            "\n"
          ]
        }
      ]
    },
    {
      "cell_type": "markdown",
      "source": [
        "## test case 1 \n",
        "## city wise which business has been reviewed stars greater than 4"
      ],
      "metadata": {
        "id": "IQ2ETBxPW7TP"
      }
    },
    {
      "cell_type": "code",
      "source": [
        "df3 = df2.filter(col('stars')>4.0)\n",
        "cities = df3.select('city','name').distinct()\n",
        "cities.show()"
      ],
      "metadata": {
        "colab": {
          "base_uri": "https://localhost:8080/"
        },
        "id": "UUQYKLOW1mv7",
        "outputId": "de79ca7e-c35c-40a6-cc15-470b1f45167c"
      },
      "execution_count": null,
      "outputs": [
        {
          "output_type": "stream",
          "name": "stdout",
          "text": [
            "+------------+--------------------+\n",
            "|        city|                name|\n",
            "+------------+--------------------+\n",
            "|Philadelphia|     Platoon Fitness|\n",
            "| Saint Louis|Ulysses S. Grant ...|\n",
            "|     Oldsmar|       JJ's Barbeque|\n",
            "|Indianapolis|Northeast Auto Se...|\n",
            "| New Orleans|The Bearded Lady ...|\n",
            "+------------+--------------------+\n",
            "\n"
          ]
        }
      ]
    },
    {
      "cell_type": "markdown",
      "source": [
        "## Usecase 2\n",
        "\n",
        "top 5 Most popular users"
      ],
      "metadata": {
        "id": "p1Mez7b4gjjb"
      }
    },
    {
      "cell_type": "code",
      "source": [
        "user_review_df.sort(col(\"fans\").desc(),col(\"review_count\").desc())\n",
        "df6 = user_review_df.groupBy('user_id','name','fans','review_count').sum('fans')\n",
        "df7 = df6.sort(col(\"fans\").desc(),col(\"review_count\").desc())\n",
        "df7 = df7.na.drop(how=\"any\")\n",
        "\n",
        "df7.select(\"name\",\"user_id\",\"fans\",\"review_count\").show(5)"
      ],
      "metadata": {
        "id": "Ym2EqhrA2r4g",
        "colab": {
          "base_uri": "https://localhost:8080/"
        },
        "outputId": "8a8e0f83-19be-4945-b2a1-c816ae1c9ae8"
      },
      "execution_count": null,
      "outputs": [
        {
          "output_type": "stream",
          "name": "stdout",
          "text": [
            "+------+--------------------+----+------------+\n",
            "|  name|             user_id|fans|review_count|\n",
            "+------+--------------------+----+------------+\n",
            "|Brooke|Qa2NoSc6DphQArihB...|  65|        1030|\n",
            "| Peter|Q503wfkVgYYRisTYS...|  52|         485|\n",
            "|Austin|dheeM9UTMy9HyBWHh...|  12|         379|\n",
            "|  Barb|u1cvQWB0lB4YsIbtS...|  11|         150|\n",
            "|  John|c11NnfZEkPQg9khQW...|   1|          71|\n",
            "+------+--------------------+----+------------+\n",
            "only showing top 5 rows\n",
            "\n"
          ]
        }
      ]
    },
    {
      "cell_type": "code",
      "source": [],
      "metadata": {
        "id": "e__RTKdvf7Fy"
      },
      "execution_count": null,
      "outputs": []
    },
    {
      "cell_type": "code",
      "source": [],
      "metadata": {
        "id": "XMJxuKDdf67j"
      },
      "execution_count": null,
      "outputs": []
    },
    {
      "cell_type": "code",
      "source": [],
      "metadata": {
        "id": "tghYcRIcf6ui"
      },
      "execution_count": null,
      "outputs": []
    },
    {
      "cell_type": "markdown",
      "source": [
        "### usecase 3\n",
        "\n",
        "## which state has more number of opened business"
      ],
      "metadata": {
        "id": "1O1Z1urf5WBj"
      }
    },
    {
      "cell_type": "code",
      "source": [
        "user_review_df =  reviews_df.join(broadcast(users_df),['user_id'])\n",
        "# user_business_df = user_review_df.join(broadcast(business_df),['business_id'])\n",
        "user_review_df.show(5)\n",
        "\n"
      ],
      "metadata": {
        "colab": {
          "base_uri": "https://localhost:8080/"
        },
        "id": "5QUBlp2-5YFY",
        "outputId": "605a6430-d91f-4d7a-8e5e-42a8a89481a9"
      },
      "execution_count": null,
      "outputs": [
        {
          "output_type": "stream",
          "name": "stdout",
          "text": [
            "+--------------------+--------------------+----+-------------------+-----+--------------------+-------------+--------------------+------+-------------+---------------+---------------+----------------+--------------+---------------+---------------+---------------+-----------------+----------------+------------------+-----------------+----+--------------------+----+--------------------+-----+------+------------+------+-------------------+\n",
            "|             user_id|         business_id|cool|               date|funny|           review_id|reviews_stars|                text|useful|average_stars|compliment_cool|compliment_cute|compliment_funny|compliment_hot|compliment_list|compliment_more|compliment_note|compliment_photos|compliment_plain|compliment_profile|compliment_writer|cool|               elite|fans|             friends|funny|  name|review_count|useful|      yelping_since|\n",
            "+--------------------+--------------------+----+-------------------+-----+--------------------+-------------+--------------------+------+-------------+---------------+---------------+----------------+--------------+---------------+---------------+---------------+-----------------+----------------+------------------+-----------------+----+--------------------+----+--------------------+-----+------+------------+------+-------------------+\n",
            "|u1cvQWB0lB4YsIbtS...|_aKr7POnacW_VizRK...|   1|2013-05-29 03:12:27|    0|xilt6zGZ3Nqo2_fog...|          5.0|By far the best d...|     1|         4.21|             19|              0|              19|            14|              0|              2|              5|                4|              22|                 3|                4|  73|2013,2014,2015,20...|  11|GGvBWumvNzl8i54cK...|   32|  Barb|         150|   150|2009-11-03 04:56:21|\n",
            "|Q503wfkVgYYRisTYS...|oha2U5XJzc6IQdenp...|   1|2008-12-06 04:05:35|    0|YPrUSWTzdbOQnRShO...|          3.0|A small aquarium ...|     2|         3.58|            176|              6|             176|            81|             12|             25|            164|                6|             134|                 4|               25|1169| 2008,2009,2010,2011|  52|eFpTzZZOmeDXpuFoj...|  952| Peter|         485|  1729|2008-05-19 15:46:10|\n",
            "|_NBVFt_RvD9fKceDT...|wADYKG5qIyJcq7iis...|   0|2012-04-28 23:15:58|    0|EL6Ge-cDg1cF_PYbE...|          5.0|Is there any way ...|     2|         3.85|              2|              0|               2|             2|              0|              0|              0|                0|               1|                 0|                1|  47|                null|   1|tNHCQOJTK8DFsbIYf...|   26|Cerpin|          39|    56|2009-08-18 14:54:58|\n",
            "|Qa2NoSc6DphQArihB...|uW8L6awmCyjovD9Oh...|   1|2008-05-01 00:38:19|    1|IFrlcFQL8eQjc_U4_...|          4.0|I always am in fa...|     1|         2.94|            420|             19|             420|           226|              4|             28|            135|                5|             204|                19|               66|3366|           2008,2009|  65|Iqfc_JtaStZwPG66W...| 2957|Brooke|        1030|  4718|2007-05-28 19:12:41|\n",
            "|c11NnfZEkPQg9khQW...|qKTjtjNSHNj8g2ugX...|   0|2012-12-04 23:29:10|    0|JqiRrT57LZmJ9nGAZ...|          5.0|Wonderful place, ...|     0|         3.72|              5|              0|               5|             2|              0|              1|              3|                0|               2|                 0|                1|  43|                null|   1|oUk22quOez9Aaag2-...|   10|  John|          71|    77|2010-07-14 10:46:19|\n",
            "+--------------------+--------------------+----+-------------------+-----+--------------------+-------------+--------------------+------+-------------+---------------+---------------+----------------+--------------+---------------+---------------+---------------+-----------------+----------------+------------------+-----------------+----+--------------------+----+--------------------+-----+------+------------+------+-------------------+\n",
            "only showing top 5 rows\n",
            "\n"
          ]
        }
      ]
    },
    {
      "cell_type": "code",
      "source": [
        "user_review_df.sort(col(\"fans\").desc(),col(\"review_count\").desc())\n",
        "df6 = user_review_df.groupBy('user_id','name','fans','review_count').sum('fans')\n",
        "df7 = df6.sort(col(\"fans\").desc(),col(\"review_count\").desc())\n",
        "df7.select(\"name\",\"user_id\",\"fans\",\"review_count\").show(5)"
      ],
      "metadata": {
        "colab": {
          "base_uri": "https://localhost:8080/"
        },
        "id": "_YY4MxUi6emj",
        "outputId": "c6f60a15-b2ae-4629-dca6-fcaf1cc8e4cd"
      },
      "execution_count": null,
      "outputs": [
        {
          "output_type": "stream",
          "name": "stdout",
          "text": [
            "+------+--------------------+----+------------+\n",
            "|  name|             user_id|fans|review_count|\n",
            "+------+--------------------+----+------------+\n",
            "|Brooke|Qa2NoSc6DphQArihB...|  65|        1030|\n",
            "| Peter|Q503wfkVgYYRisTYS...|  52|         485|\n",
            "|Austin|dheeM9UTMy9HyBWHh...|  12|         379|\n",
            "|  Barb|u1cvQWB0lB4YsIbtS...|  11|         150|\n",
            "|  John|c11NnfZEkPQg9khQW...|   1|          71|\n",
            "+------+--------------------+----+------------+\n",
            "only showing top 5 rows\n",
            "\n"
          ]
        }
      ]
    },
    {
      "cell_type": "code",
      "source": [
        "# business_df.groupBy(\"business_id\",\"categories\",\"city\").agg(count(\"categories\")).sort(col(\"count(categories)\").desc()).take(10)"
      ],
      "metadata": {
        "id": "UZ5XIfSL9o_j"
      },
      "execution_count": null,
      "outputs": []
    },
    {
      "cell_type": "code",
      "source": [
        "business_df =  business_df.filter(length(col(\"state\"))==2)\n",
        "dff = business_df.groupBy(\"state\",\"is_open\").agg(count(\"state\")).sort(col(\"count(state)\").desc())\n",
        "df_f = dff.filter(col(\"is_open\")==1)\n",
        "df_f.show(10)"
      ],
      "metadata": {
        "colab": {
          "base_uri": "https://localhost:8080/"
        },
        "id": "ZCAFhJysLcnt",
        "outputId": "99714ffa-3174-4793-9b7d-5ff13690ac14"
      },
      "execution_count": null,
      "outputs": [
        {
          "output_type": "stream",
          "name": "stdout",
          "text": [
            "+-----+-------+------------+\n",
            "|state|is_open|count(state)|\n",
            "+-----+-------+------------+\n",
            "|   PA|      1|         157|\n",
            "|   FL|      1|         126|\n",
            "|   AZ|      1|          74|\n",
            "|   IN|      1|          49|\n",
            "|   NV|      1|          48|\n",
            "|   TN|      1|          46|\n",
            "|   NJ|      1|          37|\n",
            "|   MO|      1|          37|\n",
            "|   LA|      1|          30|\n",
            "|   ID|      1|          22|\n",
            "+-----+-------+------------+\n",
            "only showing top 10 rows\n",
            "\n"
          ]
        }
      ]
    },
    {
      "cell_type": "markdown",
      "source": [
        "usecase 4:\n",
        "\n",
        "\n",
        "## find top 5 users who has  avg reviews greater than 4   and has useful but funny reviews and has more fan follwing "
      ],
      "metadata": {
        "id": "EdfeiK07U_IV"
      }
    },
    {
      "cell_type": "code",
      "source": [
        "users_df = users_df.withColumn('yelping_year',year(users_df.yelping_since))\n",
        "users_df = users_df.filter(col(\"average_stars\")>4) \n",
        "users_df = users_df.sort(col(\"yelping_year\").asc(),col(\"funny\").desc(),col(\"funny\").desc(),col(\"compliment_funny\").desc(),col(\"useful\").desc())"
      ],
      "metadata": {
        "id": "iaJaHpWAVLhS"
      },
      "execution_count": null,
      "outputs": []
    },
    {
      "cell_type": "code",
      "source": [
        "df_1 = users_df.filter(col(\"yelping_year\")==2007)\n",
        "df_2 = df_1.sort(col(\"fans\").desc(),col(\"funny\").desc(),col(\"funny\").desc(),col(\"compliment_funny\").desc(),col(\"useful\").desc())\n",
        "df_3 = df_2.na.drop(how=\"any\")\n",
        "\n",
        "df_4 = df_3.select([\"average_stars\",\"compliment_funny\",\"fans\",\"name\",\"useful\"])\n",
        "\n",
        "df_4.show(5)"
      ],
      "metadata": {
        "colab": {
          "base_uri": "https://localhost:8080/"
        },
        "id": "DVWdCbIEbeva",
        "outputId": "91cea636-a57d-48b8-e8f6-f4b7827da47c"
      },
      "execution_count": null,
      "outputs": [
        {
          "output_type": "stream",
          "name": "stdout",
          "text": [
            "+-------------+----------------+----+------+------+\n",
            "|average_stars|compliment_funny|fans|  name|useful|\n",
            "+-------------+----------------+----+------+------+\n",
            "|         4.01|             682| 248|  Nina|  3350|\n",
            "|         4.25|             721| 207|Carlos|  6407|\n",
            "|         4.09|            1118| 184|  Pete|  7563|\n",
            "|          4.1|            1183| 111|  Lisa|  2859|\n",
            "|         4.01|             113| 101| Jenna|  1500|\n",
            "+-------------+----------------+----+------+------+\n",
            "only showing top 5 rows\n",
            "\n"
          ]
        }
      ]
    },
    {
      "cell_type": "code",
      "source": [],
      "metadata": {
        "id": "5IVIS40zV_32"
      },
      "execution_count": null,
      "outputs": []
    }
  ],
  "metadata": {
    "colab": {
      "provenance": []
    },
    "kernelspec": {
      "display_name": "Python 3",
      "name": "python3"
    },
    "language_info": {
      "name": "python"
    }
  },
  "nbformat": 4,
  "nbformat_minor": 0
}