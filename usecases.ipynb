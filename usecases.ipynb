{
  "cells": [
    {
      "cell_type": "code",
      "execution_count": null,
      "metadata": {
        "colab": {
          "base_uri": "https://localhost:8080/"
        },
        "id": "TNtyu7ICykUj",
        "outputId": "7e041b59-23c9-4f97-fe98-06a2068d1d43"
      },
      "outputs": [
        {
          "output_type": "stream",
          "name": "stdout",
          "text": [
            "Looking in indexes: https://pypi.org/simple, https://us-python.pkg.dev/colab-wheels/public/simple/\n",
            "Collecting pyspark\n",
            "  Downloading pyspark-3.3.1.tar.gz (281.4 MB)\n",
            "\u001b[K     |████████████████████████████████| 281.4 MB 44 kB/s \n",
            "\u001b[?25hCollecting py4j==0.10.9.5\n",
            "  Downloading py4j-0.10.9.5-py2.py3-none-any.whl (199 kB)\n",
            "\u001b[K     |████████████████████████████████| 199 kB 50.1 MB/s \n",
            "\u001b[?25hBuilding wheels for collected packages: pyspark\n",
            "  Building wheel for pyspark (setup.py) ... \u001b[?25l\u001b[?25hdone\n",
            "  Created wheel for pyspark: filename=pyspark-3.3.1-py2.py3-none-any.whl size=281845512 sha256=e004fec8066b525ea4a64ef5cdc3bdeb3ee70307e1fc2c59c439da8ce89b3774\n",
            "  Stored in directory: /root/.cache/pip/wheels/43/dc/11/ec201cd671da62fa9c5cc77078235e40722170ceba231d7598\n",
            "Successfully built pyspark\n",
            "Installing collected packages: py4j, pyspark\n",
            "Successfully installed py4j-0.10.9.5 pyspark-3.3.1\n"
          ]
        }
      ],
      "source": [
        "!pip install pyspark"
      ]
    },
    {
      "cell_type": "code",
      "execution_count": null,
      "metadata": {
        "colab": {
          "base_uri": "https://localhost:8080/"
        },
        "id": "ou4EvDsqBD0s",
        "outputId": "d4c7980b-8d50-4618-e0b7-001d143ad930"
      },
      "outputs": [
        {
          "output_type": "stream",
          "name": "stdout",
          "text": [
            "Mounted at /content/drive\n"
          ]
        }
      ],
      "source": [
        "from google.colab import drive\n",
        "drive.mount('/content/drive',force_remount=True)"
      ]
    },
    {
      "cell_type": "code",
      "execution_count": null,
      "metadata": {
        "id": "UFTs_NeRAxnT"
      },
      "outputs": [],
      "source": [
        "import pyspark\n",
        "from pyspark.sql import SparkSession\n",
        "from pyspark.sql.functions import * \n",
        "spark = SparkSession.builder.appName('flight-data').getOrCreate()\n",
        " "
      ]
    },
    {
      "cell_type": "code",
      "source": [
        "business_df = spark.read.csv('/content/drive/MyDrive/pyspark_usecase/business_sample.csv', sep=',',inferSchema=True, header=True)\n"
      ],
      "metadata": {
        "id": "sGLUbEMRj4QE"
      },
      "execution_count": null,
      "outputs": []
    },
    {
      "cell_type": "code",
      "source": [
        "business_df.show(10)"
      ],
      "metadata": {
        "colab": {
          "base_uri": "https://localhost:8080/"
        },
        "id": "YFPw1hqDwFKP",
        "outputId": "5b2325c5-f2f7-4d98-9ab1-ee811792cf23"
      },
      "execution_count": null,
      "outputs": [
        {
          "output_type": "stream",
          "name": "stdout",
          "text": [
            "+--------------------+--------------------+--------------------+--------------------+------------------+--------------------+--------------------+--------------------+--------------------+--------------------+--------------------+--------------------+------------------+--------------------+\n",
            "|             address|          attributes|         business_id|          categories|              city|               hours|             is_open|            latitude|           longitude|                name|         postal_code|        review_count|             stars|               state|\n",
            "+--------------------+--------------------+--------------------+--------------------+------------------+--------------------+--------------------+--------------------+--------------------+--------------------+--------------------+--------------------+------------------+--------------------+\n",
            "|1616 Chapala St, ...|Row(AcceptsInsura...|Pns2l4eNsfO8kk83d...|Doctors, Traditio...|     Santa Barbara|                null|                   0|          34.4266787|        -119.7111968|Abby Rappoport, L...|               93101|                   7|               5.0|                  CA|\n",
            "|87 Grasso Plaza S...|Row(AcceptsInsura...|mpf3x-BjTdTEA3yCZ...|Shipping Centers,...|            Affton|Row(Friday='8:0-1...|                   1|           38.551126|          -90.335695|       The UPS Store|               63123|                  15|               3.0|                  MO|\n",
            "|5255 E Broadway Blvd|\"Row(AcceptsInsur...|     'street': False|  'validated': False|       'lot': True|   'valet': False}\"\"| ByAppointmentOnl...|      Caters='False'|   CoatCheck='False'|        Corkage=None| DietaryRestricti...| DogsAllowed='False'|    DriveThru=None| GoodForDancing=None|\n",
            "|         935 Race St|\"Row(AcceptsInsur...|       Ambience=None|           BYOB=None|  BYOBCorkage=None|     BestNights=None|  BikeParking='True'| BusinessAcceptsB...| BusinessAcceptsC...| BusinessParking=...|      'street': True|  'validated': False|      'lot': False|   'valet': False}\"\"|\n",
            "|       101 Walnut St|\"Row(AcceptsInsur...|      'street': None|   'validated': None|       'lot': True|   'valet': False}\"\"| ByAppointmentOnl...|      Caters='False'|      CoatCheck=None|        Corkage=None| DietaryRestricti...|    DogsAllowed=None|    DriveThru=None| GoodForDancing=None|\n",
            "|       615 S Main St|\"Row(AcceptsInsur...|     Ambience='None'|           BYOB=None|  BYOBCorkage=None|     BestNights=None| BikeParking='False'| BusinessAcceptsB...| BusinessAcceptsC...| BusinessParking=...| ByAppointmentOnl...|      Caters='False'| CoatCheck='False'|        Corkage=None|\n",
            "|8522 Eager Road, ...|\"Row(AcceptsInsur...|     'street': False|  'validated': False|       'lot': True|   'valet': False}\"\"| ByAppointmentOnl...|         Caters=None|      CoatCheck=None|        Corkage=None| DietaryRestricti...|    DogsAllowed=None|    DriveThru=None| GoodForDancing=None|\n",
            "|  400 Pasadena Ave S|                null|qkRM_2X51Yqxk3btl...|Synagogues, Relig...|    St. Petersburg|Row(Friday='9:0-1...|                   1|            27.76659|          -82.732983|      Temple Beth-El|               33707|                   5|               3.5|                  FL|\n",
            "|   8025 Mackenzie Rd|\"Row(AcceptsInsur...| Ambience=\"\"{'rom...|   'intimate': False| 'touristy': False|    'hipster': False|      'divey': False|     'classy': False|     'trendy': False|    'upscale': False|  'casual': False}\"\"|           BYOB=None|  BYOBCorkage=None|     BestNights=None|\n",
            "| 2312 Dickerson Pike|\"Row(AcceptsInsur...|       Ambience=None|           BYOB=None|  BYOBCorkage=None|     BestNights=None|    BikeParking=None| BusinessAcceptsB...| BusinessAcceptsC...| BusinessParking=...|     'street': False|  'validated': False|      'lot': False|   'valet': False}\"\"|\n",
            "+--------------------+--------------------+--------------------+--------------------+------------------+--------------------+--------------------+--------------------+--------------------+--------------------+--------------------+--------------------+------------------+--------------------+\n",
            "only showing top 10 rows\n",
            "\n"
          ]
        }
      ]
    },
    {
      "cell_type": "code",
      "source": [
        "checkin_df = spark.read.csv('/content/drive/MyDrive/pyspark_usecase/checkin_sample.csv', sep=',',inferSchema=True, header=True)\n",
        "checkin_df.show(10)"
      ],
      "metadata": {
        "colab": {
          "base_uri": "https://localhost:8080/"
        },
        "id": "iBEXrBcxwI17",
        "outputId": "82176532-0195-4c04-c83f-33bdb81a3f23"
      },
      "execution_count": null,
      "outputs": [
        {
          "output_type": "stream",
          "name": "stdout",
          "text": [
            "+--------------------+--------------------+\n",
            "|         business_id|                date|\n",
            "+--------------------+--------------------+\n",
            "|---kPU91CF4Lq2-Wl...|2020-03-13 21:10:...|\n",
            "|--0iUa4sNDFiZFrAd...|2010-09-13 21:43:...|\n",
            "|--30_8IhuyMHbSOcN...|2013-06-14 23:29:...|\n",
            "|--7PUidqRWpRSpXeb...|2011-02-15 17:12:...|\n",
            "|--7jw19RH9JKXgFoh...|2014-04-21 20:42:...|\n",
            "|--8IbOsAAxjKRoYsB...|2015-06-06 01:03:...|\n",
            "|--9osgUCSDUWUkoTL...|2015-06-13 02:00:...|\n",
            "|--ARBQr1WMsTWiwOK...|2014-12-12 00:44:...|\n",
            "|--FWWsIwxRwuw9vIM...|2010-09-11 16:28:...|\n",
            "|--FcbSxK1AoEtEAxO...|2017-08-18 19:43:...|\n",
            "+--------------------+--------------------+\n",
            "only showing top 10 rows\n",
            "\n"
          ]
        }
      ]
    },
    {
      "cell_type": "code",
      "source": [
        "reviews_df = spark.read.csv('/content/drive/MyDrive/pyspark_usecase/reviews_sample.csv', sep=',',inferSchema=True, header=True)\n",
        "reviews_df.show(10)"
      ],
      "metadata": {
        "colab": {
          "base_uri": "https://localhost:8080/"
        },
        "id": "sIsKnltCwh5W",
        "outputId": "053be7aa-1ef9-4042-f8db-6b7da2e6b436"
      },
      "execution_count": null,
      "outputs": [
        {
          "output_type": "stream",
          "name": "stdout",
          "text": [
            "+--------------------+--------------------+--------------------+--------------------+--------------------+--------------------+--------------------+--------------------+--------------------+\n",
            "|         business_id|                cool|                date|               funny|           review_id|               stars|                text|              useful|             user_id|\n",
            "+--------------------+--------------------+--------------------+--------------------+--------------------+--------------------+--------------------+--------------------+--------------------+\n",
            "|XQfwVwDr-v0ZS3_Cb...|                   0| 2018-07-07 22:09:11|                   0|KU_O5udG6zpxOg-Vc...|                 3.0|If you decide to ...|                null|                null|\n",
            "|    The food is good| but it takes a v...| but usually plea...| in order to be d...|                   0|mh_-eMZ6K5RLWhZyI...|                null|                null|                null|\n",
            "|7ATYjTIgM3jUlt4UM...|                   1| 2012-01-03 15:28:18|                   0|BiTunyQ73aT9WBnpR...|                 5.0|I've taken a lot ...|                null|                null|\n",
            "|For anyone who st...| the online sched...|                null|                null|                null|                null|                null|                null|                null|\n",
            "|There is no way I...| the owner of Bod...| a shout out. Rus...| as is his desire...| and is open to i...| even when he's k...|                   1|OyoGAe7OKpv6SyGZT...|                null|\n",
            "|YjUWPpI6HXG530lwP...|                   0| 2014-02-05 20:30:30|                   0|saUsX_uimxRlCVr67...|                 3.0|Family diner. Had...|                   0|8g_iMtfSiwikVnbP2...|\n",
            "|kxX2SOes4o-D3ZQBk...|                   1| 2015-01-04 00:01:03|                   0|AqPFMleE6RsU23_au...|                 5.0|Wow!  Yummy, diff...|                   1|_7bHUi9Uuf5__HHc_...|\n",
            "|e4Vwtrqf-wpJfwesg...|                   1| 2017-01-14 20:54:15|                   0|Sx8TMOWLNuJBWer-0...|                 4.0|Cute interior and...|                   1|bcjbaE6dDog4jkNY9...|\n",
            "|04UD14gamNjLY0IDY...|                   1| 2015-09-23 23:10:31|                   2|JrIxlS1TzJ-iCu79u...|                 1.0|I am a long term ...|                   1|eUta8W_HdHMXPzLBB...|\n",
            "|gmjsEdUsKpj9Xxu6p...|                   0| 2015-01-03 23:21:18|                   2|6AxgBCNX_PNTOxmbR...|                 5.0|Loved this tour! ...|                   0|r3zeYsv1XFBRA4dJp...|\n",
            "+--------------------+--------------------+--------------------+--------------------+--------------------+--------------------+--------------------+--------------------+--------------------+\n",
            "only showing top 10 rows\n",
            "\n"
          ]
        }
      ]
    },
    {
      "cell_type": "code",
      "source": [
        "tip_df = spark.read.csv('/content/drive/MyDrive/pyspark_usecase/tip_sample.csv', sep=',',inferSchema=True, header=True)\n",
        "tip_df.show(10)"
      ],
      "metadata": {
        "colab": {
          "base_uri": "https://localhost:8080/"
        },
        "id": "Oc6ev7uNwpz7",
        "outputId": "c6f309bc-e004-4c30-87c9-ff6d41e05746"
      },
      "execution_count": null,
      "outputs": [
        {
          "output_type": "stream",
          "name": "stdout",
          "text": [
            "+--------------------+----------------+-------------------+--------------------+--------------------+\n",
            "|         business_id|compliment_count|               date|                text|             user_id|\n",
            "+--------------------+----------------+-------------------+--------------------+--------------------+\n",
            "|3uLgwr0qeCNMjKenH...|               0|2012-05-18 02:17:21|Avengers time wit...|AGNUgVwnZUey3gcPC...|\n",
            "|QoezRbYQncpRqyrLH...|               0|2013-02-05 18:35:10|They have lots of...|NBN4MgHP9D3cw--Sn...|\n",
            "|MYoRNLb5chwjQe3c_...|               0|2013-08-18 00:56:08|It's open even wh...|-copOvldyKh1qr-vz...|\n",
            "|hV-bABTK-glh5wj31...|               0|2017-06-27 23:05:38|Very decent fried...|FjMQVZjSqY8syIO-5...|\n",
            "|_uN0OudeJ3Zl_tf6n...|               0|2012-10-06 19:43:09|Appetizers.. plat...|ld0AperBXk1h6Ubqm...|\n",
            "|7Rm9Ba50bw23KTA8R...|               0|2012-03-13 04:00:52|Chili Cup + Singl...|trf3Qcz8qvCDKXiTg...|\n",
            "|kH-0iXqkL7b8UXNpg...|               0|2013-12-03 23:42:15|Saturday, Dec 7th...|SMGAlRjyfuYu-c-22...|\n",
            "|jtri188kuhe_AuEOJ...|               0|2016-11-22 22:14:58|This is probably ...|YVBB9g23nuVJ0u44z...|\n",
            "|xODBZmX4EmlVvbqtK...|               0|2012-07-27 01:48:24|               Tacos|VL12EhEdT4OWqGq0n...|\n",
            "|pICJRcyqW1cF96Q3X...|               0|2012-06-09 22:57:04|Starbucks substit...|4ay-fdVks5WMerYL_...|\n",
            "+--------------------+----------------+-------------------+--------------------+--------------------+\n",
            "only showing top 10 rows\n",
            "\n"
          ]
        }
      ]
    },
    {
      "cell_type": "code",
      "source": [
        "\n",
        "users_df = spark.read.csv('/content/drive/MyDrive/pyspark_usecase/users_sample.csv', sep=',',inferSchema=True, header=True)\n",
        "users_df.show(10)"
      ],
      "metadata": {
        "colab": {
          "base_uri": "https://localhost:8080/"
        },
        "id": "_5NzZplSwyrA",
        "outputId": "905b628b-87d6-4d18-9bb6-f06ed1be4dc2"
      },
      "execution_count": null,
      "outputs": [
        {
          "output_type": "stream",
          "name": "stdout",
          "text": [
            "+-------------+---------------+---------------+----------------+--------------+---------------+---------------+---------------+-----------------+----------------+------------------+-----------------+-----+--------------------+----+--------------------+-----+--------+------------+------+--------------------+-------------------+\n",
            "|average_stars|compliment_cool|compliment_cute|compliment_funny|compliment_hot|compliment_list|compliment_more|compliment_note|compliment_photos|compliment_plain|compliment_profile|compliment_writer| cool|               elite|fans|             friends|funny|    name|review_count|useful|             user_id|      yelping_since|\n",
            "+-------------+---------------+---------------+----------------+--------------+---------------+---------------+---------------+-----------------+----------------+------------------+-----------------+-----+--------------------+----+--------------------+-----+--------+------------+------+--------------------+-------------------+\n",
            "|         3.91|            467|             56|             467|           250|             18|             65|            232|              180|             844|                55|              239| 5994|                2007| 267|NSCy54eWehBJyZdG2...| 1259|  Walker|         585|  7217|qVc8ODYU5SZjKXVBg...|2007-01-25 16:47:26|\n",
            "|         3.74|           3131|            157|            3131|          1145|            251|            264|           1847|             1946|            7054|               184|             1521|27281|2009,2010,2011,20...|3138|ueRPE0CX75ePGMqOF...|13066|  Daniel|        4333| 43091|j14WgRoU_-2ZE1aw1...|2009-01-25 04:35:42|\n",
            "|         3.32|            119|             17|             119|            89|              3|             13|             66|               18|              96|                10|               35| 1003|2009,2010,2011,20...|  52|LuO3Bn4f3rlhyHIaN...| 1010|   Steph|         665|  2086|2WnXYQFK0hXEoTxPt...|2008-07-25 10:41:00|\n",
            "|         4.27|             26|              6|              26|            24|              2|              4|             12|                9|              16|                 1|               10|  299|      2009,2010,2011|  28|enx1vVPnfdNUdPho6...|  330|    Gwen|         224|   512|SZDeASXq7o05mMNLs...|2005-11-29 04:38:33|\n",
            "|         3.54|              0|              0|               0|             1|              0|              1|              1|                0|               1|                 0|                0|    7|                null|   1|PBK4q9KEEBHhFvSXC...|   15|   Karen|          79|    29|hA5lMy-EnncsH4JoR...|2007-01-05 19:40:59|\n",
            "|         3.85|           2543|            361|            2543|          1713|            147|            163|           1212|              323|            5696|               191|              815|11211|2006,2007,2008,20...|1357|xBDpTUbai0DXrvxCe...| 9940|    Jane|        1221| 14953|q_QQ5kBBwlCcbL1s4...|2005-03-14 20:26:35|\n",
            "|         2.75|              0|              0|               0|             0|              0|              0|              0|                0|               1|                 0|                0|    0|                null|   1|HDAQ74AEznP-YsMk1...|    1|     Rob|          12|     6|cxuxXkcihfCbqt5By...|2009-02-24 03:09:06|\n",
            "|         3.73|             12|              0|              12|             4|              0|              7|              8|                0|               6|                 2|                5|  143|                null|  23|y2GyxJF5VQWohxgw_...|  102|    Mike|         358|   399|E9kcWJdJUHuTKfQur...|2008-12-11 22:11:56|\n",
            "|         4.04|              5|              3|               5|             2|              0|              0|              3|                1|               4|                 0|                3|   46|                null|   7|tOQDlz36rI__SOsbL...|   40|Rachelle|          40|   109|lO1iq-f75hnPNZkTy...|2008-12-29 22:40:56|\n",
            "|          3.4|              3|              0|               3|             0|              0|              0|              1|                0|               6|                 0|                0|   23|                null|   4|gy5fWeSv3Gamuq9Ox...|   20|    John|         109|   154|AUi8MPWJ0mLkMfwbu...|2010-01-07 18:32:04|\n",
            "+-------------+---------------+---------------+----------------+--------------+---------------+---------------+---------------+-----------------+----------------+------------------+-----------------+-----+--------------------+----+--------------------+-----+--------+------------+------+--------------------+-------------------+\n",
            "only showing top 10 rows\n",
            "\n"
          ]
        }
      ]
    },
    {
      "cell_type": "markdown",
      "source": [
        "joining business and reviews data. Since reviews df is smaller than business df and to reduce the data shuffling we have used broadcast join\n"
      ],
      "metadata": {
        "id": "rJbWM4Fw0gfO"
      }
    },
    {
      "cell_type": "code",
      "source": [
        "reviews_df = reviews_df.withColumnRenamed(\"stars\",'reviews_stars')\n",
        "business_review_df = business_df.join(broadcast(reviews_df),['business_id'])"
      ],
      "metadata": {
        "id": "iPJb5-Msw8j4"
      },
      "execution_count": null,
      "outputs": []
    },
    {
      "cell_type": "code",
      "source": [
        "business_review_df.show(1)"
      ],
      "metadata": {
        "colab": {
          "base_uri": "https://localhost:8080/"
        },
        "id": "N_eNblyHxZiH",
        "outputId": "130aa064-3bb1-4585-bb31-7dee6e793604"
      },
      "execution_count": null,
      "outputs": [
        {
          "output_type": "stream",
          "name": "stdout",
          "text": [
            "+--------------------+---------------+--------------------+--------------------+------------+--------------------+-------+-------------+--------------+--------------------+-----------+------------+-----+-----+----+-------------------+-----+--------------------+-------------+--------------------+------+--------------------+\n",
            "|         business_id|        address|          attributes|          categories|        city|               hours|is_open|     latitude|     longitude|                name|postal_code|review_count|stars|state|cool|               date|funny|           review_id|reviews_stars|                text|useful|             user_id|\n",
            "+--------------------+---------------+--------------------+--------------------+------------+--------------------+-------+-------------+--------------+--------------------+-----------+------------+-----+-----+----+-------------------+-----+--------------------+-------------+--------------------+------+--------------------+\n",
            "|6I_DA3uqOox50rBvj...|4301 Island Ave|\"Row(AcceptsInsur...|Event Planning & ...|Philadelphia|Row(Friday='0:0-0...|      1|39.8911246892|-75.2342512699|Aloft Philadelphi...|      19153|         175|  3.0|   PA|   0|2017-08-16 21:38:05|    0|YpwBi6ZTos9cdizfL...|          1.0|I was very disapp...|     2|ZPDcTTy10DeS3PnTd...|\n",
            "+--------------------+---------------+--------------------+--------------------+------------+--------------------+-------+-------------+--------------+--------------------+-----------+------------+-----+-----+----+-------------------+-----+--------------------+-------------+--------------------+------+--------------------+\n",
            "only showing top 1 row\n",
            "\n"
          ]
        }
      ]
    },
    {
      "cell_type": "code",
      "source": [
        "df2 = business_review_df.select(['business_id','city','categories','name','review_count','stars'])\n",
        "df2.show(5)"
      ],
      "metadata": {
        "colab": {
          "base_uri": "https://localhost:8080/"
        },
        "id": "NYUJpdFUzy-y",
        "outputId": "cfd470a8-f3e7-4e52-fe0b-0d6f10f9cae4"
      },
      "execution_count": null,
      "outputs": [
        {
          "output_type": "stream",
          "name": "stdout",
          "text": [
            "+--------------------+------------+--------------------+--------------------+------------+-----+\n",
            "|         business_id|        city|          categories|                name|review_count|stars|\n",
            "+--------------------+------------+--------------------+--------------------+------------+-----+\n",
            "|6I_DA3uqOox50rBvj...|Philadelphia|Event Planning & ...|Aloft Philadelphi...|         175|  3.0|\n",
            "|mHDBZmEH0Er3184YS...|     Brandon|Tires, Automotive...|Splash Car Wash &...|          50|  2.5|\n",
            "|yooufdsf3eAVq_9RQ...|Philadelphia|Local Services, C...|      Mazzoni Center|          46|  3.0|\n",
            "|-Ijm5ICZUZffTo3iu...|       Largo|Doctors, Health &...|MedExpress Urgent...|          39|  2.5|\n",
            "|uW2oyOCEN3RgS7j2M...| New Orleans|Barbers, Beauty &...|The Bearded Lady ...|          46|  4.5|\n",
            "+--------------------+------------+--------------------+--------------------+------------+-----+\n",
            "only showing top 5 rows\n",
            "\n"
          ]
        }
      ]
    },
    {
      "cell_type": "markdown",
      "source": [
        "test case 1 ( city wise which business have review stars greater than 4)"
      ],
      "metadata": {
        "id": "IQ2ETBxPW7TP"
      }
    },
    {
      "cell_type": "code",
      "source": [
        "df3 = df2.filter(col('stars')>4.0)\n",
        "cities = df3.select('city','name').distinct()\n",
        "cities.show()"
      ],
      "metadata": {
        "colab": {
          "base_uri": "https://localhost:8080/"
        },
        "id": "UUQYKLOW1mv7",
        "outputId": "b1d530c9-c92c-481f-979d-b69321c9fb16"
      },
      "execution_count": null,
      "outputs": [
        {
          "output_type": "stream",
          "name": "stdout",
          "text": [
            "+------------+--------------------+\n",
            "|        city|                name|\n",
            "+------------+--------------------+\n",
            "|Philadelphia|     Platoon Fitness|\n",
            "| Saint Louis|Ulysses S. Grant ...|\n",
            "|     Oldsmar|       JJ's Barbeque|\n",
            "|Indianapolis|Northeast Auto Se...|\n",
            "| New Orleans|The Bearded Lady ...|\n",
            "+------------+--------------------+\n",
            "\n"
          ]
        }
      ]
    },
    {
      "cell_type": "code",
      "source": [],
      "metadata": {
        "id": "Ym2EqhrA2r4g"
      },
      "execution_count": null,
      "outputs": []
    },
    {
      "cell_type": "markdown",
      "source": [
        "usecase 2 ( which\n"
      ],
      "metadata": {
        "id": "1O1Z1urf5WBj"
      }
    },
    {
      "cell_type": "code",
      "source": [
        "user_review_df =  reviews_df.join(broadcast(users_df),['user_id'])\n",
        "# user_business_df = user_review_df.join(broadcast(business_df),['business_id'])\n",
        "user_review_df.show(5)\n",
        "\n"
      ],
      "metadata": {
        "colab": {
          "base_uri": "https://localhost:8080/"
        },
        "id": "5QUBlp2-5YFY",
        "outputId": "5ebfb50f-e049-432c-91ce-529e6e9adeac"
      },
      "execution_count": null,
      "outputs": [
        {
          "output_type": "stream",
          "name": "stdout",
          "text": [
            "+--------------------+--------------------+----+-------------------+-----+--------------------+-------------+--------------------+------+-------------+---------------+---------------+----------------+--------------+---------------+---------------+---------------+-----------------+----------------+------------------+-----------------+----+--------------------+----+--------------------+-----+------+------------+------+-------------------+\n",
            "|             user_id|         business_id|cool|               date|funny|           review_id|reviews_stars|                text|useful|average_stars|compliment_cool|compliment_cute|compliment_funny|compliment_hot|compliment_list|compliment_more|compliment_note|compliment_photos|compliment_plain|compliment_profile|compliment_writer|cool|               elite|fans|             friends|funny|  name|review_count|useful|      yelping_since|\n",
            "+--------------------+--------------------+----+-------------------+-----+--------------------+-------------+--------------------+------+-------------+---------------+---------------+----------------+--------------+---------------+---------------+---------------+-----------------+----------------+------------------+-----------------+----+--------------------+----+--------------------+-----+------+------------+------+-------------------+\n",
            "|u1cvQWB0lB4YsIbtS...|_aKr7POnacW_VizRK...|   1|2013-05-29 03:12:27|    0|xilt6zGZ3Nqo2_fog...|          5.0|By far the best d...|     1|         4.21|             19|              0|              19|            14|              0|              2|              5|                4|              22|                 3|                4|  73|2013,2014,2015,20...|  11|GGvBWumvNzl8i54cK...|   32|  Barb|         150|   150|2009-11-03 04:56:21|\n",
            "|Q503wfkVgYYRisTYS...|oha2U5XJzc6IQdenp...|   1|2008-12-06 04:05:35|    0|YPrUSWTzdbOQnRShO...|          3.0|A small aquarium ...|     2|         3.58|            176|              6|             176|            81|             12|             25|            164|                6|             134|                 4|               25|1169| 2008,2009,2010,2011|  52|eFpTzZZOmeDXpuFoj...|  952| Peter|         485|  1729|2008-05-19 15:46:10|\n",
            "|_NBVFt_RvD9fKceDT...|wADYKG5qIyJcq7iis...|   0|2012-04-28 23:15:58|    0|EL6Ge-cDg1cF_PYbE...|          5.0|Is there any way ...|     2|         3.85|              2|              0|               2|             2|              0|              0|              0|                0|               1|                 0|                1|  47|                null|   1|tNHCQOJTK8DFsbIYf...|   26|Cerpin|          39|    56|2009-08-18 14:54:58|\n",
            "|Qa2NoSc6DphQArihB...|uW8L6awmCyjovD9Oh...|   1|2008-05-01 00:38:19|    1|IFrlcFQL8eQjc_U4_...|          4.0|I always am in fa...|     1|         2.94|            420|             19|             420|           226|              4|             28|            135|                5|             204|                19|               66|3366|           2008,2009|  65|Iqfc_JtaStZwPG66W...| 2957|Brooke|        1030|  4718|2007-05-28 19:12:41|\n",
            "|c11NnfZEkPQg9khQW...|qKTjtjNSHNj8g2ugX...|   0|2012-12-04 23:29:10|    0|JqiRrT57LZmJ9nGAZ...|          5.0|Wonderful place, ...|     0|         3.72|              5|              0|               5|             2|              0|              1|              3|                0|               2|                 0|                1|  43|                null|   1|oUk22quOez9Aaag2-...|   10|  John|          71|    77|2010-07-14 10:46:19|\n",
            "+--------------------+--------------------+----+-------------------+-----+--------------------+-------------+--------------------+------+-------------+---------------+---------------+----------------+--------------+---------------+---------------+---------------+-----------------+----------------+------------------+-----------------+----+--------------------+----+--------------------+-----+------+------------+------+-------------------+\n",
            "only showing top 5 rows\n",
            "\n"
          ]
        }
      ]
    },
    {
      "cell_type": "code",
      "source": [
        "user_review_df.sort(col(\"fans\").desc(),col(\"review_count\").desc())\n",
        "df6 = user_review_df.groupBy('user_id','name','fans','review_count').sum('fans')\n",
        "df7 = df6.sort(col(\"fans\").desc(),col(\"review_count\").desc())\n",
        "df7.select(\"name\",\"user_id\",\"fans\",\"review_count\").show(5)"
      ],
      "metadata": {
        "colab": {
          "base_uri": "https://localhost:8080/"
        },
        "id": "_YY4MxUi6emj",
        "outputId": "847fff45-eb98-4dc8-e290-020e87863678"
      },
      "execution_count": null,
      "outputs": [
        {
          "output_type": "stream",
          "name": "stdout",
          "text": [
            "+------+--------------------+----+------------+\n",
            "|  name|             user_id|fans|review_count|\n",
            "+------+--------------------+----+------------+\n",
            "|Brooke|Qa2NoSc6DphQArihB...|  65|        1030|\n",
            "| Peter|Q503wfkVgYYRisTYS...|  52|         485|\n",
            "|Austin|dheeM9UTMy9HyBWHh...|  12|         379|\n",
            "|  Barb|u1cvQWB0lB4YsIbtS...|  11|         150|\n",
            "|  John|c11NnfZEkPQg9khQW...|   1|          71|\n",
            "+------+--------------------+----+------------+\n",
            "only showing top 5 rows\n",
            "\n"
          ]
        }
      ]
    },
    {
      "cell_type": "code",
      "source": [
        "# business_df.groupBy(\"business_id\",\"categories\",\"city\").agg(count(\"categories\")).sort(col(\"count(categories)\").desc()).take(10)"
      ],
      "metadata": {
        "colab": {
          "base_uri": "https://localhost:8080/"
        },
        "id": "UZ5XIfSL9o_j",
        "outputId": "1c0adbd2-7453-4f2a-f0db-0eeee8f85dea"
      },
      "execution_count": null,
      "outputs": [
        {
          "output_type": "stream",
          "name": "stdout",
          "text": [
            "+--------------------+-------------------+------------------+-----------------+\n",
            "|         business_id|         categories|              city|count(categories)|\n",
            "+--------------------+-------------------+------------------+-----------------+\n",
            "|     'street': False| 'validated': False|       'lot': True|              250|\n",
            "|     'street': False| 'validated': False|      'lot': False|              191|\n",
            "| Ambience=\"\"{'tou...|   'hipster': False| 'romantic': False|              165|\n",
            "| Ambience=\"\"{'rom...|  'intimate': False|   'classy': False|              128|\n",
            "| Ambience=\"\"{'rom...|  'intimate': False| 'touristy': False|              100|\n",
            "|      'street': True| 'validated': False|      'lot': False|               77|\n",
            "|       Ambience=None|          BYOB=None|  BYOBCorkage=None|               47|\n",
            "|      'street': True| 'validated': False|       'lot': True|               38|\n",
            "|    'hipster': False|  'romantic': False|    'divey': False|               38|\n",
            "| Ambience=\"\"{u'di...|  u'hipster': False|   u'casual': True|               17|\n",
            "| Ambience=\"\"{u'di...|   u'hipster': None|   u'casual': True|               14|\n",
            "|   'intimate': False|    'classy': False|  'hipster': False|               12|\n",
            "|    u'garage': False|   u'street': False|      u'lot': True|               11|\n",
            "| Ambience=\"\"{'tou...|    'hipster': True| 'romantic': False|               10|\n",
            "| Ambience=\"\"{'tou...|    'hipster': None| 'romantic': False|               10|\n",
            "+--------------------+-------------------+------------------+-----------------+\n",
            "only showing top 15 rows\n",
            "\n"
          ]
        }
      ]
    },
    {
      "cell_type": "code",
      "source": [
        "business_df =  business_df.filter(length(col(\"state\"))==2)\n",
        "dff = business_df.groupBy(\"state\",\"is_open\").agg(count(\"state\")).sort(col(\"count(state)\").desc())\n",
        "df_f = dff.filter(col(\"is_open\")==1)\n",
        "df_f.show(10)"
      ],
      "metadata": {
        "colab": {
          "base_uri": "https://localhost:8080/"
        },
        "id": "ZCAFhJysLcnt",
        "outputId": "88aa1219-9fc8-453a-9525-70ecd8f97820"
      },
      "execution_count": null,
      "outputs": [
        {
          "output_type": "stream",
          "name": "stdout",
          "text": [
            "+-----+-------+------------+\n",
            "|state|is_open|count(state)|\n",
            "+-----+-------+------------+\n",
            "|   PA|      1|         157|\n",
            "|   FL|      1|         126|\n",
            "|   AZ|      1|          74|\n",
            "|   IN|      1|          49|\n",
            "|   NV|      1|          48|\n",
            "|   TN|      1|          46|\n",
            "|   NJ|      1|          37|\n",
            "|   MO|      1|          37|\n",
            "|   LA|      1|          30|\n",
            "|   ID|      1|          22|\n",
            "+-----+-------+------------+\n",
            "only showing top 10 rows\n",
            "\n"
          ]
        }
      ]
    },
    {
      "cell_type": "markdown",
      "source": [
        "usecase 4"
      ],
      "metadata": {
        "id": "EdfeiK07U_IV"
      }
    },
    {
      "cell_type": "code",
      "source": [
        "users_df.show(1)"
      ],
      "metadata": {
        "colab": {
          "base_uri": "https://localhost:8080/"
        },
        "id": "zMcn6amVM81-",
        "outputId": "580f0f85-e015-49fb-fce4-a9d966ca63fd"
      },
      "execution_count": null,
      "outputs": [
        {
          "output_type": "stream",
          "name": "stdout",
          "text": [
            "+-------------+---------------+---------------+----------------+--------------+---------------+---------------+---------------+-----------------+----------------+------------------+-----------------+----+-----+----+--------------------+-----+------+------------+------+--------------------+-------------------+\n",
            "|average_stars|compliment_cool|compliment_cute|compliment_funny|compliment_hot|compliment_list|compliment_more|compliment_note|compliment_photos|compliment_plain|compliment_profile|compliment_writer|cool|elite|fans|             friends|funny|  name|review_count|useful|             user_id|      yelping_since|\n",
            "+-------------+---------------+---------------+----------------+--------------+---------------+---------------+---------------+-----------------+----------------+------------------+-----------------+----+-----+----+--------------------+-----+------+------------+------+--------------------+-------------------+\n",
            "|         3.91|            467|             56|             467|           250|             18|             65|            232|              180|             844|                55|              239|5994| 2007| 267|NSCy54eWehBJyZdG2...| 1259|Walker|         585|  7217|qVc8ODYU5SZjKXVBg...|2007-01-25 16:47:26|\n",
            "+-------------+---------------+---------------+----------------+--------------+---------------+---------------+---------------+-----------------+----------------+------------------+-----------------+----+-----+----+--------------------+-----+------+------------+------+--------------------+-------------------+\n",
            "only showing top 1 row\n",
            "\n"
          ]
        }
      ]
    },
    {
      "cell_type": "code",
      "source": [
        "users_df.printSchema()"
      ],
      "metadata": {
        "colab": {
          "base_uri": "https://localhost:8080/"
        },
        "id": "0qat94v5VDD8",
        "outputId": "02434f72-b9a7-4d48-fbc6-e06ac9041170"
      },
      "execution_count": null,
      "outputs": [
        {
          "output_type": "stream",
          "name": "stdout",
          "text": [
            "root\n",
            " |-- average_stars: double (nullable = true)\n",
            " |-- compliment_cool: integer (nullable = true)\n",
            " |-- compliment_cute: integer (nullable = true)\n",
            " |-- compliment_funny: integer (nullable = true)\n",
            " |-- compliment_hot: integer (nullable = true)\n",
            " |-- compliment_list: integer (nullable = true)\n",
            " |-- compliment_more: integer (nullable = true)\n",
            " |-- compliment_note: integer (nullable = true)\n",
            " |-- compliment_photos: integer (nullable = true)\n",
            " |-- compliment_plain: integer (nullable = true)\n",
            " |-- compliment_profile: integer (nullable = true)\n",
            " |-- compliment_writer: integer (nullable = true)\n",
            " |-- cool: integer (nullable = true)\n",
            " |-- elite: string (nullable = true)\n",
            " |-- fans: integer (nullable = true)\n",
            " |-- friends: string (nullable = true)\n",
            " |-- funny: integer (nullable = true)\n",
            " |-- name: string (nullable = true)\n",
            " |-- review_count: integer (nullable = true)\n",
            " |-- useful: integer (nullable = true)\n",
            " |-- user_id: string (nullable = true)\n",
            " |-- yelping_since: timestamp (nullable = true)\n",
            "\n"
          ]
        }
      ]
    },
    {
      "cell_type": "code",
      "source": [
        "users_df = users_df.withColumn('yelping_year',year(users_df.yelping_since))\n",
        "users_df.sort(col(\"year\").asc())"
      ],
      "metadata": {
        "id": "iaJaHpWAVLhS"
      },
      "execution_count": null,
      "outputs": []
    },
    {
      "cell_type": "code",
      "source": [
        "users_df.show()"
      ],
      "metadata": {
        "colab": {
          "base_uri": "https://localhost:8080/"
        },
        "id": "LpUY-3f4VmPM",
        "outputId": "c7d0350e-8cf0-4fbb-df0c-6b6e1dc81316"
      },
      "execution_count": null,
      "outputs": [
        {
          "output_type": "stream",
          "name": "stdout",
          "text": [
            "+-------------+---------------+---------------+----------------+--------------+---------------+---------------+---------------+-----------------+----------------+------------------+-----------------+-----+--------------------+----+--------------------+-----+---------+------------+------+--------------------+-------------------+------------+\n",
            "|average_stars|compliment_cool|compliment_cute|compliment_funny|compliment_hot|compliment_list|compliment_more|compliment_note|compliment_photos|compliment_plain|compliment_profile|compliment_writer| cool|               elite|fans|             friends|funny|     name|review_count|useful|             user_id|      yelping_since|yelping_year|\n",
            "+-------------+---------------+---------------+----------------+--------------+---------------+---------------+---------------+-----------------+----------------+------------------+-----------------+-----+--------------------+----+--------------------+-----+---------+------------+------+--------------------+-------------------+------------+\n",
            "|         3.91|            467|             56|             467|           250|             18|             65|            232|              180|             844|                55|              239| 5994|                2007| 267|NSCy54eWehBJyZdG2...| 1259|   Walker|         585|  7217|qVc8ODYU5SZjKXVBg...|2007-01-25 16:47:26|        2007|\n",
            "|         3.74|           3131|            157|            3131|          1145|            251|            264|           1847|             1946|            7054|               184|             1521|27281|2009,2010,2011,20...|3138|ueRPE0CX75ePGMqOF...|13066|   Daniel|        4333| 43091|j14WgRoU_-2ZE1aw1...|2009-01-25 04:35:42|        2009|\n",
            "|         3.32|            119|             17|             119|            89|              3|             13|             66|               18|              96|                10|               35| 1003|2009,2010,2011,20...|  52|LuO3Bn4f3rlhyHIaN...| 1010|    Steph|         665|  2086|2WnXYQFK0hXEoTxPt...|2008-07-25 10:41:00|        2008|\n",
            "|         4.27|             26|              6|              26|            24|              2|              4|             12|                9|              16|                 1|               10|  299|      2009,2010,2011|  28|enx1vVPnfdNUdPho6...|  330|     Gwen|         224|   512|SZDeASXq7o05mMNLs...|2005-11-29 04:38:33|        2005|\n",
            "|         3.54|              0|              0|               0|             1|              0|              1|              1|                0|               1|                 0|                0|    7|                null|   1|PBK4q9KEEBHhFvSXC...|   15|    Karen|          79|    29|hA5lMy-EnncsH4JoR...|2007-01-05 19:40:59|        2007|\n",
            "|         3.85|           2543|            361|            2543|          1713|            147|            163|           1212|              323|            5696|               191|              815|11211|2006,2007,2008,20...|1357|xBDpTUbai0DXrvxCe...| 9940|     Jane|        1221| 14953|q_QQ5kBBwlCcbL1s4...|2005-03-14 20:26:35|        2005|\n",
            "|         2.75|              0|              0|               0|             0|              0|              0|              0|                0|               1|                 0|                0|    0|                null|   1|HDAQ74AEznP-YsMk1...|    1|      Rob|          12|     6|cxuxXkcihfCbqt5By...|2009-02-24 03:09:06|        2009|\n",
            "|         3.73|             12|              0|              12|             4|              0|              7|              8|                0|               6|                 2|                5|  143|                null|  23|y2GyxJF5VQWohxgw_...|  102|     Mike|         358|   399|E9kcWJdJUHuTKfQur...|2008-12-11 22:11:56|        2008|\n",
            "|         4.04|              5|              3|               5|             2|              0|              0|              3|                1|               4|                 0|                3|   46|                null|   7|tOQDlz36rI__SOsbL...|   40| Rachelle|          40|   109|lO1iq-f75hnPNZkTy...|2008-12-29 22:40:56|        2008|\n",
            "|          3.4|              3|              0|               3|             0|              0|              0|              1|                0|               6|                 0|                0|   23|                null|   4|gy5fWeSv3Gamuq9Ox...|   20|     John|         109|   154|AUi8MPWJ0mLkMfwbu...|2010-01-07 18:32:04|        2010|\n",
            "|          4.0|              0|              0|               0|             0|              0|              0|              0|                0|               0|                 0|                0|    1|                null|   1|Vq4Pc81l6MWTnc-h4...|    0|    Chris|           4|     1|iYzhPPqnrjJkg1JHZ...|2010-11-03 18:59:20|        2010|\n",
            "|         3.89|             36|              3|              36|            23|              5|              9|             31|                7|              41|                 1|               24|  573| 2009,2010,2011,2012|  31|6tbXpUIU6upoeqWND...|  487|     Ryan|         535|  1130|xoZvMJPDW6Q9pDAXI...|2009-05-27 06:12:10|        2009|\n",
            "|         4.51|              0|              0|               0|             4|              0|              0|              1|                0|               5|                 0|                1|   27|                null|   4|zkK6c9BcDyqreU0fq...|    3| Charlene|          37|    63|vVukUtqoLF5BvH_Vt...|2011-01-29 17:18:59|        2011|\n",
            "|         3.08|              0|              0|               0|             0|              0|              0|              0|                0|               0|                 0|                0|    0|                null|   0|f0mdrhyxVZ0TsFZD5...|    3|    Kenny|          11|    30|_crIokUeTCHVK_JVO...|2009-10-07 17:23:44|        2009|\n",
            "|         4.29|              2|              0|               2|             1|              0|              0|              1|                0|               0|                 0|                0|   13|                null|   1|piejMEdRkGB7-1aL4...|    3|   Teresa|           7|    18|1McG5Rn_UDkmlkZOr...|2009-05-26 16:11:11|        2009|\n",
            "|         3.75|            221|             22|             221|           212|             34|             17|             67|               17|             158|                17|               45| 1297|2007,2008,2009,20...|  44|j3MBGSLaXMlhLZNeA...| 1138|   Eugene|         682|  1819|SgiBkhXeqIKl1PlFp...|2006-08-25 16:47:25|        2006|\n",
            "|         4.15|              2|              0|               2|             0|              0|              1|              6|                0|               2|                 0|                1|   19|                null|   1|hJiJzw6obCmbGAfwr...|    2| Jennifer|          25|    29|fJZO_skqpnhk1kvom...|2008-07-14 16:01:36|        2008|\n",
            "|         3.84|             66|              0|              66|            15|              0|              1|             12|               12|              33|                 0|                1|   29|                null|   9|EPBLDry-ObheloH-N...|   29|  Ronskee|          37|    56|x7YtLnBW2dUnrrpwa...|2010-05-06 00:40:56|        2010|\n",
            "|         4.11|            808|             29|             808|          1020|             23|             79|            144|              723|             407|                68|              587| 4149|2010,2011,2012,20...| 131|dLts9bY66tXEFqYG0...| 3714|Catherine|         607|  4573|QF1Kuhs8iwLWANNZx...|2009-04-27 20:25:54|        2009|\n",
            "|          3.6|              0|              0|               0|             1|              0|              0|              2|                0|               4|                 0|                1|   44|                null|   4|Ynu2Z2L8Wv2fbTwQ_...|   52|       AJ|         133|   201|VcLRGCG_VbAo8MxOm...|2009-07-11 16:47:38|        2009|\n",
            "+-------------+---------------+---------------+----------------+--------------+---------------+---------------+---------------+-----------------+----------------+------------------+-----------------+-----+--------------------+----+--------------------+-----+---------+------------+------+--------------------+-------------------+------------+\n",
            "only showing top 20 rows\n",
            "\n"
          ]
        }
      ]
    },
    {
      "cell_type": "code",
      "source": [],
      "metadata": {
        "id": "5IVIS40zV_32"
      },
      "execution_count": null,
      "outputs": []
    }
  ],
  "metadata": {
    "colab": {
      "provenance": []
    },
    "kernelspec": {
      "display_name": "Python 3",
      "name": "python3"
    },
    "language_info": {
      "name": "python"
    }
  },
  "nbformat": 4,
  "nbformat_minor": 0
}