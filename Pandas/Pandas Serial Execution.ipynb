{
 "cells": [
  {
   "cell_type": "code",
   "execution_count": 50,
   "metadata": {},
   "outputs": [],
   "source": [
    "import pandas as pd\n",
    "import time"
   ]
  },
  {
   "cell_type": "code",
   "execution_count": 51,
   "metadata": {},
   "outputs": [],
   "source": [
    "dataset=r'E:\\d1.csv'\n",
    "chunk_size = 100000"
   ]
  },
  {
   "cell_type": "code",
   "execution_count": 52,
   "metadata": {},
   "outputs": [
    {
     "name": "stderr",
     "output_type": "stream",
     "text": [
      "<ipython-input-52-d62345dfea03>:10: DtypeWarning: Columns (29) have mixed types. Specify dtype option on import or set low_memory=False.\n",
      "  for chunk in pd.read_csv(dataset, chunksize=chunk_size):\n",
      "<ipython-input-52-d62345dfea03>:10: DtypeWarning: Columns (29) have mixed types. Specify dtype option on import or set low_memory=False.\n",
      "  for chunk in pd.read_csv(dataset, chunksize=chunk_size):\n",
      "<ipython-input-52-d62345dfea03>:10: DtypeWarning: Columns (29) have mixed types. Specify dtype option on import or set low_memory=False.\n",
      "  for chunk in pd.read_csv(dataset, chunksize=chunk_size):\n",
      "<ipython-input-52-d62345dfea03>:10: DtypeWarning: Columns (29) have mixed types. Specify dtype option on import or set low_memory=False.\n",
      "  for chunk in pd.read_csv(dataset, chunksize=chunk_size):\n"
     ]
    },
    {
     "name": "stdout",
     "output_type": "stream",
     "text": [
      "\n",
      "------------>  Time Taken 38.5 seconds\n",
      "\n",
      "                   business_name  review_count  \\\n",
      "989                Brew Brothers          1560   \n",
      "990                Brew Brothers          1560   \n",
      "991                Brew Brothers          1560   \n",
      "992                Brew Brothers          1560   \n",
      "993                Brew Brothers          1560   \n",
      "...                          ...           ...   \n",
      "459519  Broken Beaker Distillery           638   \n",
      "459520  Broken Beaker Distillery           638   \n",
      "459585         African Small Pot          1387   \n",
      "459822          City Center Park          1520   \n",
      "460003              Jimmy John's          1520   \n",
      "\n",
      "                                               categories          city state  \n",
      "989     Bars, Nightlife, American (Traditional), Music...          Reno    NV  \n",
      "990     Bars, Nightlife, American (Traditional), Music...          Reno    NV  \n",
      "991     Bars, Nightlife, American (Traditional), Music...          Reno    NV  \n",
      "992     Bars, Nightlife, American (Traditional), Music...          Reno    NV  \n",
      "993     Bars, Nightlife, American (Traditional), Music...          Reno    NV  \n",
      "...                                                   ...           ...   ...  \n",
      "459519                                 Food, Distilleries  Indianapolis    IN  \n",
      "459520                                 Food, Distilleries  Indianapolis    IN  \n",
      "459585                   Restaurants, Senegalese, African  Philadelphia    PA  \n",
      "459822  Playgrounds, Kids Activities, Active Life, Par...     Greenwood    IN  \n",
      "460003          Delis, Fast Food, Restaurants, Sandwiches  Indianapolis    IN  \n",
      "\n",
      "[13331 rows x 5 columns]\n"
     ]
    }
   ],
   "source": [
    "#UC 3: Businesses rated by users with either more than 100 fans or review count more than 500 or compliments more than 1000 and an average score of 4.0 and above.\n",
    "\n",
    "start_time = time.time()\n",
    "def complimentsum(row):\n",
    "    col_sum = row['compliment_hot'] + row['compliment_more'] + row['compliment_profile'] + row['compliment_cute'] + row['compliment_list'] + row['compliment_note'] + row['compliment_plain'] + row['compliment_cool'] + row['compliment_funny'] + row['compliment_writer'] + row['compliment_photos']\n",
    "    return col_sum\n",
    "\n",
    "results = []\n",
    "\n",
    "for chunk in pd.read_csv(dataset, chunksize=chunk_size):\n",
    "    \n",
    "    uc3 = chunk[chunk['elite'] != '']\n",
    "    uc3['total_compliments'] = uc3.apply(complimentsum, axis=1)\n",
    "    uc3 = uc3[(uc3['fans'] > 100) | (uc3['review_count'] > 500) | (uc3['total_compliments'] > 1000)]\n",
    "    uc3 = uc3[uc3['average_stars'] > 4.0]\n",
    "    uc3 = uc3[['business_name', 'review_count', 'categories', 'city', 'state']]\n",
    "    results.append(uc3)\n",
    "\n",
    "df_result = pd.concat(results)\n",
    "end_time = time.time()\n",
    "total_time= f'{(end_time - start_time):.1f}'\n",
    "print(f'\\n------------>  Time Taken {total_time} seconds\\n')\n",
    "print(df_result)"
   ]
  },
  {
   "cell_type": "code",
   "execution_count": 53,
   "metadata": {},
   "outputs": [
    {
     "name": "stderr",
     "output_type": "stream",
     "text": [
      "<ipython-input-53-6d54cfd90eec>:7: DtypeWarning: Columns (29) have mixed types. Specify dtype option on import or set low_memory=False.\n",
      "  for chunk in pd.read_csv(dataset, chunksize=chunk_size):\n",
      "<ipython-input-53-6d54cfd90eec>:7: DtypeWarning: Columns (29) have mixed types. Specify dtype option on import or set low_memory=False.\n",
      "  for chunk in pd.read_csv(dataset, chunksize=chunk_size):\n",
      "<ipython-input-53-6d54cfd90eec>:7: DtypeWarning: Columns (29) have mixed types. Specify dtype option on import or set low_memory=False.\n",
      "  for chunk in pd.read_csv(dataset, chunksize=chunk_size):\n",
      "<ipython-input-53-6d54cfd90eec>:7: DtypeWarning: Columns (29) have mixed types. Specify dtype option on import or set low_memory=False.\n",
      "  for chunk in pd.read_csv(dataset, chunksize=chunk_size):\n"
     ]
    },
    {
     "name": "stdout",
     "output_type": "stream",
     "text": [
      "\n",
      "------------>  Time Taken 28.1 seconds\n",
      "\n",
      "                  city      name\n",
      "8          New Orleans      Tara\n",
      "32         New Orleans     Tanim\n",
      "40         New Orleans       Amy\n",
      "64         New Orleans     Jessa\n",
      "136        New Orleans       Jon\n",
      "...                ...       ...\n",
      "460368  Tarpon Springs     Monte\n",
      "460372    Philadelphia       Ron\n",
      "460398          Carmel         B\n",
      "460399      St Charles  Jennifer\n",
      "460401          Gretna     Jerri\n",
      "\n",
      "[14978 rows x 2 columns]\n"
     ]
    }
   ],
   "source": [
    "#UC 4: city wise which business has been reviewed stars greater than 4\n",
    "\n",
    "start_time = time.time()\n",
    "\n",
    "results = []\n",
    "\n",
    "for chunk in pd.read_csv(dataset, chunksize=chunk_size):\n",
    "   \n",
    "    uc4 = chunk[['business_id','city','categories','name','review_count','stars']]\n",
    "    uc4 = uc4[uc4['stars'] > 4.0]\n",
    "    uc4 = uc4[['city', 'name']].drop_duplicates()\n",
    "\n",
    "    results.append(uc4)\n",
    "\n",
    "df_result = pd.concat(results)\n",
    "end_time = time.time()\n",
    "total_time= f'{(end_time - start_time):.1f}'\n",
    "print(f'\\n------------>  Time Taken {total_time} seconds\\n')\n",
    "print(df_result)\n"
   ]
  },
  {
   "cell_type": "code",
   "execution_count": 54,
   "metadata": {},
   "outputs": [
    {
     "name": "stdout",
     "output_type": "stream",
     "text": [
      "\n",
      "------------>  Time Taken 29.6 seconds\n",
      "\n",
      "                       user_id    name  fans  review_count\n",
      "0       j14WgRoU_-2ZE1aw1dXrJg  Daniel  3138          4333\n",
      "5       j14WgRoU_-2ZE1aw1dXrJg  Daniel  3138          4333\n",
      "7       j14WgRoU_-2ZE1aw1dXrJg  Daniel  3138          4333\n",
      "6       j14WgRoU_-2ZE1aw1dXrJg  Daniel  3138          4333\n",
      "1       j14WgRoU_-2ZE1aw1dXrJg  Daniel  3138          4333\n",
      "...                        ...     ...   ...           ...\n",
      "460251  lvuVHcKmwr4j1fNu-4LnOw  Alexis     0            73\n",
      "460252  ogwKLa7jDFe5S9g2mb9nvw  Cheryl     0             2\n",
      "460253  3gz6SSrqfRD39nIWGuu5hw    Lisa     0            23\n",
      "460097  qMpajgu0itM-exYmQRgoRQ  Alison     0            50\n",
      "460000  _WZinviqC5WGupq_YSz10g   Belen     0            15\n",
      "\n",
      "[460402 rows x 4 columns]\n"
     ]
    }
   ],
   "source": [
    "#UC 5:top 5 Most popular users\n",
    "\n",
    "start_time = time.time()\n",
    "chunk_size = 10000\n",
    "results = []\n",
    "\n",
    "for chunk in pd.read_csv(dataset, chunksize=chunk_size):\n",
    "    \n",
    "    uc5 = chunk.sort_values(by=['fans'], ascending=False)\n",
    "    uc5=uc5[['user_id', 'name', 'fans', 'review_count']]\n",
    "    \n",
    "    results.append(uc5)\n",
    "\n",
    "df_result = pd.concat(results)\n",
    "end_time = time.time()\n",
    "total_time= f'{(end_time - start_time):.1f}'\n",
    "print(f'\\n------------>  Time Taken {total_time} seconds\\n')\n",
    "print(df_result)"
   ]
  },
  {
   "cell_type": "code",
   "execution_count": 55,
   "metadata": {},
   "outputs": [
    {
     "name": "stdout",
     "output_type": "stream",
     "text": [
      "\n",
      "------------>  Time Taken 26.3 seconds\n",
      "\n",
      "   state   count\n",
      "8     LA  112145\n",
      "12    PA   92719\n",
      "13    TN   36983\n",
      "9     MO   35506\n",
      "7     IN   30688\n",
      "4     FL   29806\n",
      "11    NV   24356\n",
      "1     AZ   17086\n",
      "2     CA   13909\n",
      "10    NJ    3325\n",
      "0     AB    1021\n",
      "5     ID     897\n",
      "3     DE     664\n",
      "6     IL     356\n"
     ]
    }
   ],
   "source": [
    "# UC6: which state has more number of opened business\n",
    "\n",
    "start_time = time.time()\n",
    "\n",
    "results = []\n",
    "\n",
    "for chunk in pd.read_csv(dataset, chunksize=chunk_size):\n",
    "    uc6 = chunk.loc[chunk['state'].str.len() == 2]\n",
    "    uc6 = uc6.groupby(['state', 'is_open'])\n",
    "    uc6 = uc6.size().reset_index(name='count')\n",
    "    uc6 = uc6.loc[uc6['is_open'] == 1]\n",
    "\n",
    "    results.append(uc6)\n",
    "\n",
    "df_result = pd.concat(results)\n",
    "df_grouped = df_result.groupby('state')['count'].sum().reset_index().sort_values('count', ascending=False)\n",
    "end_time = time.time()\n",
    "total_time= f'{(end_time - start_time):.1f}'\n",
    "print(f'\\n------------>  Time Taken {total_time} seconds\\n')\n",
    "print(df_grouped)"
   ]
  },
  {
   "cell_type": "code",
   "execution_count": 57,
   "metadata": {},
   "outputs": [
    {
     "data": {
      "text/plain": [
       "Index(['state', 'is_open', 'count'], dtype='object')"
      ]
     },
     "execution_count": 57,
     "metadata": {},
     "output_type": "execute_result"
    }
   ],
   "source": [
    "df_result.columns"
   ]
  },
  {
   "cell_type": "code",
   "execution_count": null,
   "metadata": {},
   "outputs": [],
   "source": []
  }
 ],
 "metadata": {
  "kernelspec": {
   "display_name": "Python 3",
   "language": "python",
   "name": "python3"
  },
  "language_info": {
   "codemirror_mode": {
    "name": "ipython",
    "version": 3
   },
   "file_extension": ".py",
   "mimetype": "text/x-python",
   "name": "python",
   "nbconvert_exporter": "python",
   "pygments_lexer": "ipython3",
   "version": "3.8.3"
  }
 },
 "nbformat": 4,
 "nbformat_minor": 4
}
